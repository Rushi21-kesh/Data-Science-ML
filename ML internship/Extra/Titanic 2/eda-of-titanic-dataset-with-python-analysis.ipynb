{
 "cells": [
  {
   "cell_type": "markdown",
   "metadata": {
    "_cell_guid": "bdfffc35-4784-4a80-b2b7-fa68f1f341c4",
    "_uuid": "5ec865618a600b6ec734f2f42360511ad9b97c9e"
   },
   "source": [
    "# Exploratory Data Analysis with Titanic dataset\n",
    "\n",
    "\n"
   ]
  },
  {
   "cell_type": "code",
   "execution_count": 1,
   "metadata": {
    "_cell_guid": "1ccc646e-3906-45b0-8fb6-813d9817878a",
    "_uuid": "7ef37314af94e5550608dab39e2ef8eaa02fa4e8"
   },
   "outputs": [],
   "source": [
    "import numpy as np\n",
    "import pandas as pd\n",
    "import matplotlib.pyplot as plt\n",
    "import seaborn as sb"
   ]
  },
  {
   "cell_type": "code",
   "execution_count": 2,
   "metadata": {
    "_cell_guid": "1fadbae8-73fc-40c4-80fa-d62dc1360368",
    "_uuid": "86558aeb9c37dd924a33288186bc3bf468f15ed8"
   },
   "outputs": [],
   "source": [
    "plt.style.use('fivethirtyeight')\n",
    "import warnings\n",
    "warnings.filterwarnings('ignore')\n",
    "%matplotlib inline"
   ]
  },
  {
   "cell_type": "code",
   "execution_count": 4,
   "metadata": {
    "_cell_guid": "cc67b041-a52d-461d-9039-d28e182d94fa",
    "_uuid": "dd06df984ddcd00c3a2b4e97a844794407088489",
    "scrolled": true
   },
   "outputs": [],
   "source": [
    "train_data=pd.read_csv('train.csv')\n",
    "test_data=pd.read_csv('test.csv')"
   ]
  },
  {
   "cell_type": "code",
   "execution_count": 5,
   "metadata": {
    "_cell_guid": "3fdca55c-7dcb-4eb0-b7da-b140f943a646",
    "_uuid": "d195d7ce719c98f9fd27398fda67f09c48d4e035"
   },
   "outputs": [
    {
     "data": {
      "text/plain": [
       "(891, 12)"
      ]
     },
     "execution_count": 5,
     "metadata": {},
     "output_type": "execute_result"
    }
   ],
   "source": [
    "train_data.shape"
   ]
  },
  {
   "cell_type": "code",
   "execution_count": 6,
   "metadata": {
    "_cell_guid": "9f87a7d4-11a6-47d7-a604-8fc6e4963a14",
    "_uuid": "92f7bbb6010c4f1d6b32b00750cd9ea7555cea38",
    "scrolled": true
   },
   "outputs": [
    {
     "data": {
      "text/html": [
       "<div>\n",
       "<style scoped>\n",
       "    .dataframe tbody tr th:only-of-type {\n",
       "        vertical-align: middle;\n",
       "    }\n",
       "\n",
       "    .dataframe tbody tr th {\n",
       "        vertical-align: top;\n",
       "    }\n",
       "\n",
       "    .dataframe thead th {\n",
       "        text-align: right;\n",
       "    }\n",
       "</style>\n",
       "<table border=\"1\" class=\"dataframe\">\n",
       "  <thead>\n",
       "    <tr style=\"text-align: right;\">\n",
       "      <th></th>\n",
       "      <th>PassengerId</th>\n",
       "      <th>Survived</th>\n",
       "      <th>Pclass</th>\n",
       "      <th>Name</th>\n",
       "      <th>Sex</th>\n",
       "      <th>Age</th>\n",
       "      <th>SibSp</th>\n",
       "      <th>Parch</th>\n",
       "      <th>Ticket</th>\n",
       "      <th>Fare</th>\n",
       "      <th>Cabin</th>\n",
       "      <th>Embarked</th>\n",
       "    </tr>\n",
       "  </thead>\n",
       "  <tbody>\n",
       "    <tr>\n",
       "      <th>0</th>\n",
       "      <td>1</td>\n",
       "      <td>0</td>\n",
       "      <td>3</td>\n",
       "      <td>Braund, Mr. Owen Harris</td>\n",
       "      <td>male</td>\n",
       "      <td>22.0</td>\n",
       "      <td>1</td>\n",
       "      <td>0</td>\n",
       "      <td>A/5 21171</td>\n",
       "      <td>7.2500</td>\n",
       "      <td>NaN</td>\n",
       "      <td>S</td>\n",
       "    </tr>\n",
       "    <tr>\n",
       "      <th>1</th>\n",
       "      <td>2</td>\n",
       "      <td>1</td>\n",
       "      <td>1</td>\n",
       "      <td>Cumings, Mrs. John Bradley (Florence Briggs Th...</td>\n",
       "      <td>female</td>\n",
       "      <td>38.0</td>\n",
       "      <td>1</td>\n",
       "      <td>0</td>\n",
       "      <td>PC 17599</td>\n",
       "      <td>71.2833</td>\n",
       "      <td>C85</td>\n",
       "      <td>C</td>\n",
       "    </tr>\n",
       "    <tr>\n",
       "      <th>2</th>\n",
       "      <td>3</td>\n",
       "      <td>1</td>\n",
       "      <td>3</td>\n",
       "      <td>Heikkinen, Miss. Laina</td>\n",
       "      <td>female</td>\n",
       "      <td>26.0</td>\n",
       "      <td>0</td>\n",
       "      <td>0</td>\n",
       "      <td>STON/O2. 3101282</td>\n",
       "      <td>7.9250</td>\n",
       "      <td>NaN</td>\n",
       "      <td>S</td>\n",
       "    </tr>\n",
       "    <tr>\n",
       "      <th>3</th>\n",
       "      <td>4</td>\n",
       "      <td>1</td>\n",
       "      <td>1</td>\n",
       "      <td>Futrelle, Mrs. Jacques Heath (Lily May Peel)</td>\n",
       "      <td>female</td>\n",
       "      <td>35.0</td>\n",
       "      <td>1</td>\n",
       "      <td>0</td>\n",
       "      <td>113803</td>\n",
       "      <td>53.1000</td>\n",
       "      <td>C123</td>\n",
       "      <td>S</td>\n",
       "    </tr>\n",
       "    <tr>\n",
       "      <th>4</th>\n",
       "      <td>5</td>\n",
       "      <td>0</td>\n",
       "      <td>3</td>\n",
       "      <td>Allen, Mr. William Henry</td>\n",
       "      <td>male</td>\n",
       "      <td>35.0</td>\n",
       "      <td>0</td>\n",
       "      <td>0</td>\n",
       "      <td>373450</td>\n",
       "      <td>8.0500</td>\n",
       "      <td>NaN</td>\n",
       "      <td>S</td>\n",
       "    </tr>\n",
       "    <tr>\n",
       "      <th>5</th>\n",
       "      <td>6</td>\n",
       "      <td>0</td>\n",
       "      <td>3</td>\n",
       "      <td>Moran, Mr. James</td>\n",
       "      <td>male</td>\n",
       "      <td>NaN</td>\n",
       "      <td>0</td>\n",
       "      <td>0</td>\n",
       "      <td>330877</td>\n",
       "      <td>8.4583</td>\n",
       "      <td>NaN</td>\n",
       "      <td>Q</td>\n",
       "    </tr>\n",
       "    <tr>\n",
       "      <th>6</th>\n",
       "      <td>7</td>\n",
       "      <td>0</td>\n",
       "      <td>1</td>\n",
       "      <td>McCarthy, Mr. Timothy J</td>\n",
       "      <td>male</td>\n",
       "      <td>54.0</td>\n",
       "      <td>0</td>\n",
       "      <td>0</td>\n",
       "      <td>17463</td>\n",
       "      <td>51.8625</td>\n",
       "      <td>E46</td>\n",
       "      <td>S</td>\n",
       "    </tr>\n",
       "    <tr>\n",
       "      <th>7</th>\n",
       "      <td>8</td>\n",
       "      <td>0</td>\n",
       "      <td>3</td>\n",
       "      <td>Palsson, Master. Gosta Leonard</td>\n",
       "      <td>male</td>\n",
       "      <td>2.0</td>\n",
       "      <td>3</td>\n",
       "      <td>1</td>\n",
       "      <td>349909</td>\n",
       "      <td>21.0750</td>\n",
       "      <td>NaN</td>\n",
       "      <td>S</td>\n",
       "    </tr>\n",
       "    <tr>\n",
       "      <th>8</th>\n",
       "      <td>9</td>\n",
       "      <td>1</td>\n",
       "      <td>3</td>\n",
       "      <td>Johnson, Mrs. Oscar W (Elisabeth Vilhelmina Berg)</td>\n",
       "      <td>female</td>\n",
       "      <td>27.0</td>\n",
       "      <td>0</td>\n",
       "      <td>2</td>\n",
       "      <td>347742</td>\n",
       "      <td>11.1333</td>\n",
       "      <td>NaN</td>\n",
       "      <td>S</td>\n",
       "    </tr>\n",
       "    <tr>\n",
       "      <th>9</th>\n",
       "      <td>10</td>\n",
       "      <td>1</td>\n",
       "      <td>2</td>\n",
       "      <td>Nasser, Mrs. Nicholas (Adele Achem)</td>\n",
       "      <td>female</td>\n",
       "      <td>14.0</td>\n",
       "      <td>1</td>\n",
       "      <td>0</td>\n",
       "      <td>237736</td>\n",
       "      <td>30.0708</td>\n",
       "      <td>NaN</td>\n",
       "      <td>C</td>\n",
       "    </tr>\n",
       "  </tbody>\n",
       "</table>\n",
       "</div>"
      ],
      "text/plain": [
       "   PassengerId  Survived  Pclass  \\\n",
       "0            1         0       3   \n",
       "1            2         1       1   \n",
       "2            3         1       3   \n",
       "3            4         1       1   \n",
       "4            5         0       3   \n",
       "5            6         0       3   \n",
       "6            7         0       1   \n",
       "7            8         0       3   \n",
       "8            9         1       3   \n",
       "9           10         1       2   \n",
       "\n",
       "                                                Name     Sex   Age  SibSp  \\\n",
       "0                            Braund, Mr. Owen Harris    male  22.0      1   \n",
       "1  Cumings, Mrs. John Bradley (Florence Briggs Th...  female  38.0      1   \n",
       "2                             Heikkinen, Miss. Laina  female  26.0      0   \n",
       "3       Futrelle, Mrs. Jacques Heath (Lily May Peel)  female  35.0      1   \n",
       "4                           Allen, Mr. William Henry    male  35.0      0   \n",
       "5                                   Moran, Mr. James    male   NaN      0   \n",
       "6                            McCarthy, Mr. Timothy J    male  54.0      0   \n",
       "7                     Palsson, Master. Gosta Leonard    male   2.0      3   \n",
       "8  Johnson, Mrs. Oscar W (Elisabeth Vilhelmina Berg)  female  27.0      0   \n",
       "9                Nasser, Mrs. Nicholas (Adele Achem)  female  14.0      1   \n",
       "\n",
       "   Parch            Ticket     Fare Cabin Embarked  \n",
       "0      0         A/5 21171   7.2500   NaN        S  \n",
       "1      0          PC 17599  71.2833   C85        C  \n",
       "2      0  STON/O2. 3101282   7.9250   NaN        S  \n",
       "3      0            113803  53.1000  C123        S  \n",
       "4      0            373450   8.0500   NaN        S  \n",
       "5      0            330877   8.4583   NaN        Q  \n",
       "6      0             17463  51.8625   E46        S  \n",
       "7      1            349909  21.0750   NaN        S  \n",
       "8      2            347742  11.1333   NaN        S  \n",
       "9      0            237736  30.0708   NaN        C  "
      ]
     },
     "execution_count": 6,
     "metadata": {},
     "output_type": "execute_result"
    }
   ],
   "source": [
    "train_data.head(10)"
   ]
  },
  {
   "cell_type": "code",
   "execution_count": 7,
   "metadata": {
    "_cell_guid": "73da3ccf-f82c-485c-ad2a-547c0f13ee6c",
    "_uuid": "b21f2a9d3e89f769a1bd0ce09da993c7bff10a7c"
   },
   "outputs": [
    {
     "data": {
      "text/html": [
       "<div>\n",
       "<style scoped>\n",
       "    .dataframe tbody tr th:only-of-type {\n",
       "        vertical-align: middle;\n",
       "    }\n",
       "\n",
       "    .dataframe tbody tr th {\n",
       "        vertical-align: top;\n",
       "    }\n",
       "\n",
       "    .dataframe thead th {\n",
       "        text-align: right;\n",
       "    }\n",
       "</style>\n",
       "<table border=\"1\" class=\"dataframe\">\n",
       "  <thead>\n",
       "    <tr style=\"text-align: right;\">\n",
       "      <th></th>\n",
       "      <th>PassengerId</th>\n",
       "      <th>Pclass</th>\n",
       "      <th>Name</th>\n",
       "      <th>Sex</th>\n",
       "      <th>Age</th>\n",
       "      <th>SibSp</th>\n",
       "      <th>Parch</th>\n",
       "      <th>Ticket</th>\n",
       "      <th>Fare</th>\n",
       "      <th>Cabin</th>\n",
       "      <th>Embarked</th>\n",
       "    </tr>\n",
       "  </thead>\n",
       "  <tbody>\n",
       "    <tr>\n",
       "      <th>0</th>\n",
       "      <td>892</td>\n",
       "      <td>3</td>\n",
       "      <td>Kelly, Mr. James</td>\n",
       "      <td>male</td>\n",
       "      <td>34.5</td>\n",
       "      <td>0</td>\n",
       "      <td>0</td>\n",
       "      <td>330911</td>\n",
       "      <td>7.8292</td>\n",
       "      <td>NaN</td>\n",
       "      <td>Q</td>\n",
       "    </tr>\n",
       "    <tr>\n",
       "      <th>1</th>\n",
       "      <td>893</td>\n",
       "      <td>3</td>\n",
       "      <td>Wilkes, Mrs. James (Ellen Needs)</td>\n",
       "      <td>female</td>\n",
       "      <td>47.0</td>\n",
       "      <td>1</td>\n",
       "      <td>0</td>\n",
       "      <td>363272</td>\n",
       "      <td>7.0000</td>\n",
       "      <td>NaN</td>\n",
       "      <td>S</td>\n",
       "    </tr>\n",
       "    <tr>\n",
       "      <th>2</th>\n",
       "      <td>894</td>\n",
       "      <td>2</td>\n",
       "      <td>Myles, Mr. Thomas Francis</td>\n",
       "      <td>male</td>\n",
       "      <td>62.0</td>\n",
       "      <td>0</td>\n",
       "      <td>0</td>\n",
       "      <td>240276</td>\n",
       "      <td>9.6875</td>\n",
       "      <td>NaN</td>\n",
       "      <td>Q</td>\n",
       "    </tr>\n",
       "    <tr>\n",
       "      <th>3</th>\n",
       "      <td>895</td>\n",
       "      <td>3</td>\n",
       "      <td>Wirz, Mr. Albert</td>\n",
       "      <td>male</td>\n",
       "      <td>27.0</td>\n",
       "      <td>0</td>\n",
       "      <td>0</td>\n",
       "      <td>315154</td>\n",
       "      <td>8.6625</td>\n",
       "      <td>NaN</td>\n",
       "      <td>S</td>\n",
       "    </tr>\n",
       "    <tr>\n",
       "      <th>4</th>\n",
       "      <td>896</td>\n",
       "      <td>3</td>\n",
       "      <td>Hirvonen, Mrs. Alexander (Helga E Lindqvist)</td>\n",
       "      <td>female</td>\n",
       "      <td>22.0</td>\n",
       "      <td>1</td>\n",
       "      <td>1</td>\n",
       "      <td>3101298</td>\n",
       "      <td>12.2875</td>\n",
       "      <td>NaN</td>\n",
       "      <td>S</td>\n",
       "    </tr>\n",
       "  </tbody>\n",
       "</table>\n",
       "</div>"
      ],
      "text/plain": [
       "   PassengerId  Pclass                                          Name     Sex  \\\n",
       "0          892       3                              Kelly, Mr. James    male   \n",
       "1          893       3              Wilkes, Mrs. James (Ellen Needs)  female   \n",
       "2          894       2                     Myles, Mr. Thomas Francis    male   \n",
       "3          895       3                              Wirz, Mr. Albert    male   \n",
       "4          896       3  Hirvonen, Mrs. Alexander (Helga E Lindqvist)  female   \n",
       "\n",
       "    Age  SibSp  Parch   Ticket     Fare Cabin Embarked  \n",
       "0  34.5      0      0   330911   7.8292   NaN        Q  \n",
       "1  47.0      1      0   363272   7.0000   NaN        S  \n",
       "2  62.0      0      0   240276   9.6875   NaN        Q  \n",
       "3  27.0      0      0   315154   8.6625   NaN        S  \n",
       "4  22.0      1      1  3101298  12.2875   NaN        S  "
      ]
     },
     "execution_count": 7,
     "metadata": {},
     "output_type": "execute_result"
    }
   ],
   "source": [
    "test_data.head()"
   ]
  },
  {
   "cell_type": "code",
   "execution_count": 8,
   "metadata": {
    "_cell_guid": "e43a6271-1b69-43d7-a45b-f8b84c940dad",
    "_uuid": "a7b00e3add28398149621d710b28cfd43a7e8315"
   },
   "outputs": [
    {
     "data": {
      "text/plain": [
       "PassengerId      0\n",
       "Survived         0\n",
       "Pclass           0\n",
       "Name             0\n",
       "Sex              0\n",
       "Age            177\n",
       "SibSp            0\n",
       "Parch            0\n",
       "Ticket           0\n",
       "Fare             0\n",
       "Cabin          687\n",
       "Embarked         2\n",
       "dtype: int64"
      ]
     },
     "execution_count": 8,
     "metadata": {},
     "output_type": "execute_result"
    }
   ],
   "source": [
    "train_data.isnull().sum()"
   ]
  },
  {
   "cell_type": "code",
   "execution_count": 9,
   "metadata": {
    "_cell_guid": "c57466e5-c0fc-4e3a-86ee-c219c25cfb4e",
    "_uuid": "474928cc7dc656e5da644fa453edcd1d21841915"
   },
   "outputs": [
    {
     "data": {
      "image/png": "[encoded data removed]",
      "text/plain": [
       "<Figure size 432x288 with 1 Axes>"
      ]
     },
     "metadata": {
      "needs_background": "light"
     },
     "output_type": "display_data"
    }
   ],
   "source": [
    "sb.countplot('Survived',data=train_data)\n",
    "plt.show()"
   ]
  },
  {
   "cell_type": "markdown",
   "metadata": {
    "_cell_guid": "f14422da-af0a-431a-89ce-6ea5993aca91",
    "_uuid": "62f5615b17798fb758e14fab7be9d99369e791ea"
   },
   "source": [
    "From the above graph it is clear that not many persons survived.\n",
    "Out of 891 persons in training dataset only 350, 38.4% of total training dataset survived. We will get more insight of data by exploring more."
   ]
  },
  {
   "cell_type": "markdown",
   "metadata": {
    "_cell_guid": "8ba3935e-5f02-4d93-95dc-cfd80fab8d30",
    "_uuid": "f678cba564076a54d7d05a1e4fbaf30436066fb0"
   },
   "source": [
    "Here we'll explore features"
   ]
  },
  {
   "cell_type": "code",
   "execution_count": 11,
   "metadata": {
    "_cell_guid": "76992ff6-10cb-409a-9465-e56b335faa74",
    "_uuid": "ef6e3bed7a9c2f718dd269619c30c1105233ea54"
   },
   "outputs": [
    {
     "data": {
      "text/html": [
       "<div>\n",
       "<style scoped>\n",
       "    .dataframe tbody tr th:only-of-type {\n",
       "        vertical-align: middle;\n",
       "    }\n",
       "\n",
       "    .dataframe tbody tr th {\n",
       "        vertical-align: top;\n",
       "    }\n",
       "\n",
       "    .dataframe thead th {\n",
       "        text-align: right;\n",
       "    }\n",
       "</style>\n",
       "<table border=\"1\" class=\"dataframe\">\n",
       "  <thead>\n",
       "    <tr style=\"text-align: right;\">\n",
       "      <th></th>\n",
       "      <th></th>\n",
       "      <th>Survived</th>\n",
       "    </tr>\n",
       "    <tr>\n",
       "      <th>Sex</th>\n",
       "      <th>Survived</th>\n",
       "      <th></th>\n",
       "    </tr>\n",
       "  </thead>\n",
       "  <tbody>\n",
       "    <tr>\n",
       "      <th rowspan=\"2\" valign=\"top\">female</th>\n",
       "      <th>0</th>\n",
       "      <td>81</td>\n",
       "    </tr>\n",
       "    <tr>\n",
       "      <th>1</th>\n",
       "      <td>233</td>\n",
       "    </tr>\n",
       "    <tr>\n",
       "      <th rowspan=\"2\" valign=\"top\">male</th>\n",
       "      <th>0</th>\n",
       "      <td>468</td>\n",
       "    </tr>\n",
       "    <tr>\n",
       "      <th>1</th>\n",
       "      <td>109</td>\n",
       "    </tr>\n",
       "  </tbody>\n",
       "</table>\n",
       "</div>"
      ],
      "text/plain": [
       "                 Survived\n",
       "Sex    Survived          \n",
       "female 0               81\n",
       "       1              233\n",
       "male   0              468\n",
       "       1              109"
      ]
     },
     "execution_count": 11,
     "metadata": {},
     "output_type": "execute_result"
    }
   ],
   "source": [
    "train_data.groupby(['Sex', 'Survived'])['Survived'].count().to_frame()"
   ]
  },
  {
   "cell_type": "markdown",
   "metadata": {
    "_cell_guid": "ac056788-6cc2-4411-a19f-73b83bd6f21b",
    "_uuid": "eed11c2d5077018577d778cb3d03e32214c7c6ce"
   },
   "source": [
    "It is clear that 233 female survived out of 344. And out of 577 male 109 survived. The survival ratio of female is much greater than that of male. It can be seen clearly in following graph"
   ]
  },
  {
   "cell_type": "code",
   "execution_count": 12,
   "metadata": {
    "_cell_guid": "7b0bc1e0-a8d9-4848-807e-815392d12b76",
    "_uuid": "bf5d8e2522bb00dc2fc1c22ff0d821290e8b418b"
   },
   "outputs": [
    {
     "data": {
      "image/png": "[encoded data removed]",
      "text/plain": [
       "<Figure size 432x288 with 1 Axes>"
      ]
     },
     "metadata": {
      "needs_background": "light"
     },
     "output_type": "display_data"
    }
   ],
   "source": [
    "train_data[['Sex','Survived']].groupby(['Sex']).mean().plot.bar()\n",
    "sb.countplot('Sex',hue='Survived',data=train_data,)\n",
    "plt.show()"
   ]
  },
  {
   "cell_type": "markdown",
   "metadata": {
    "_cell_guid": "14c2aff4-a9af-49f5-ae09-2f7ead2e108b",
    "_uuid": "90cc96f012bb3c866ed40bc88e20ff8a1eb4028d"
   },
   "source": [
    "'Sex' is very interesting feature. Isn't it? Let's explore more features"
   ]
  },
  {
   "cell_type": "code",
   "execution_count": 13,
   "metadata": {
    "_cell_guid": "013a7ce7-accc-4272-9df7-c78289478cc6",
    "_uuid": "c949094d68749de7822e975aed9e20327a98f5dd"
   },
   "outputs": [
    {
     "data": {
      "image/png": "[encoded data removed]",
      "text/plain": [
       "<Figure size 432x288 with 1 Axes>"
      ]
     },
     "metadata": {
      "needs_background": "light"
     },
     "output_type": "display_data"
    }
   ],
   "source": [
    "sb.countplot('Pclass', hue='Survived', data=train_data)\n",
    "plt.title('Pclass: Sruvived vs Dead')\n",
    "plt.show()"
   ]
  },
  {
   "cell_type": "markdown",
   "metadata": {
    "_cell_guid": "22af9369-c7e2-49d2-b838-c51dbf33fdf6",
    "_uuid": "f8630bf3c9131f866b44c523ffdad4ecf4fd9bfa"
   },
   "source": [
    "Wow.... That looks amazing. It is usually said that Money can't buy Everything, But it is clearly seen that pasangers of Class 1 are given high priority while Rescue. There are greater number of passangers in Class 3 than Class 1 and Class 2 but very few, almost 25% in Class 3 survived. In Class 2, survivail and non-survival rate is 49% and 51% approx.\n",
    "While in Class 1 almost 68% people survived. So money and status matters here.\n",
    "\n",
    "Let's dive in again into data to check more interesting observations."
   ]
  },
  {
   "cell_type": "code",
   "execution_count": 14,
   "metadata": {
    "_cell_guid": "9c3d4ad1-18e5-416d-a26d-74fbdca0b94a",
    "_uuid": "26243d12a3c5fad03467180a23a39d5e63131fd9"
   },
   "outputs": [
    {
     "data": {
      "text/html": [
       "<style  type=\"text/css\" >\n",
       "    #T_25141952_d3d6_11ea_93a9_54e1adc9055brow0_col0 {\n",
       "            background-color:  #ffff66;\n",
       "            color:  #000000;\n",
       "        }    #T_25141952_d3d6_11ea_93a9_54e1adc9055brow0_col1 {\n",
       "            background-color:  #ffff66;\n",
       "            color:  #000000;\n",
       "        }    #T_25141952_d3d6_11ea_93a9_54e1adc9055brow0_col2 {\n",
       "            background-color:  #f1f866;\n",
       "            color:  #000000;\n",
       "        }    #T_25141952_d3d6_11ea_93a9_54e1adc9055brow0_col3 {\n",
       "            background-color:  #ffff66;\n",
       "            color:  #000000;\n",
       "        }    #T_25141952_d3d6_11ea_93a9_54e1adc9055brow1_col0 {\n",
       "            background-color:  #96cb66;\n",
       "            color:  #000000;\n",
       "        }    #T_25141952_d3d6_11ea_93a9_54e1adc9055brow1_col1 {\n",
       "            background-color:  #a3d166;\n",
       "            color:  #000000;\n",
       "        }    #T_25141952_d3d6_11ea_93a9_54e1adc9055brow1_col2 {\n",
       "            background-color:  #f1f866;\n",
       "            color:  #000000;\n",
       "        }    #T_25141952_d3d6_11ea_93a9_54e1adc9055brow1_col3 {\n",
       "            background-color:  #cfe766;\n",
       "            color:  #000000;\n",
       "        }    #T_25141952_d3d6_11ea_93a9_54e1adc9055brow2_col0 {\n",
       "            background-color:  #a7d366;\n",
       "            color:  #000000;\n",
       "        }    #T_25141952_d3d6_11ea_93a9_54e1adc9055brow2_col1 {\n",
       "            background-color:  #85c266;\n",
       "            color:  #000000;\n",
       "        }    #T_25141952_d3d6_11ea_93a9_54e1adc9055brow2_col2 {\n",
       "            background-color:  #6eb666;\n",
       "            color:  #000000;\n",
       "        }    #T_25141952_d3d6_11ea_93a9_54e1adc9055brow2_col3 {\n",
       "            background-color:  #85c266;\n",
       "            color:  #000000;\n",
       "        }    #T_25141952_d3d6_11ea_93a9_54e1adc9055brow3_col0 {\n",
       "            background-color:  #cde666;\n",
       "            color:  #000000;\n",
       "        }    #T_25141952_d3d6_11ea_93a9_54e1adc9055brow3_col1 {\n",
       "            background-color:  #f0f866;\n",
       "            color:  #000000;\n",
       "        }    #T_25141952_d3d6_11ea_93a9_54e1adc9055brow3_col2 {\n",
       "            background-color:  #ffff66;\n",
       "            color:  #000000;\n",
       "        }    #T_25141952_d3d6_11ea_93a9_54e1adc9055brow3_col3 {\n",
       "            background-color:  #f7fb66;\n",
       "            color:  #000000;\n",
       "        }    #T_25141952_d3d6_11ea_93a9_54e1adc9055brow4_col0 {\n",
       "            background-color:  #008066;\n",
       "            color:  #f1f1f1;\n",
       "        }    #T_25141952_d3d6_11ea_93a9_54e1adc9055brow4_col1 {\n",
       "            background-color:  #008066;\n",
       "            color:  #f1f1f1;\n",
       "        }    #T_25141952_d3d6_11ea_93a9_54e1adc9055brow4_col2 {\n",
       "            background-color:  #008066;\n",
       "            color:  #f1f1f1;\n",
       "        }    #T_25141952_d3d6_11ea_93a9_54e1adc9055brow4_col3 {\n",
       "            background-color:  #008066;\n",
       "            color:  #f1f1f1;\n",
       "        }</style><table id=\"T_25141952_d3d6_11ea_93a9_54e1adc9055b\" ><thead>    <tr>        <th class=\"blank\" ></th>        <th class=\"index_name level0\" >Pclass</th>        <th class=\"col_heading level0 col0\" >1</th>        <th class=\"col_heading level0 col1\" >2</th>        <th class=\"col_heading level0 col2\" >3</th>        <th class=\"col_heading level0 col3\" >All</th>    </tr>    <tr>        <th class=\"index_name level0\" >Sex</th>        <th class=\"index_name level1\" >Survived</th>        <th class=\"blank\" ></th>        <th class=\"blank\" ></th>        <th class=\"blank\" ></th>        <th class=\"blank\" ></th>    </tr></thead><tbody>\n",
       "                <tr>\n",
       "                        <th id=\"T_25141952_d3d6_11ea_93a9_54e1adc9055blevel0_row0\" class=\"row_heading level0 row0\" rowspan=2>female</th>\n",
       "                        <th id=\"T_25141952_d3d6_11ea_93a9_54e1adc9055blevel1_row0\" class=\"row_heading level1 row0\" >0</th>\n",
       "                        <td id=\"T_25141952_d3d6_11ea_93a9_54e1adc9055brow0_col0\" class=\"data row0 col0\" >3</td>\n",
       "                        <td id=\"T_25141952_d3d6_11ea_93a9_54e1adc9055brow0_col1\" class=\"data row0 col1\" >6</td>\n",
       "                        <td id=\"T_25141952_d3d6_11ea_93a9_54e1adc9055brow0_col2\" class=\"data row0 col2\" >72</td>\n",
       "                        <td id=\"T_25141952_d3d6_11ea_93a9_54e1adc9055brow0_col3\" class=\"data row0 col3\" >81</td>\n",
       "            </tr>\n",
       "            <tr>\n",
       "                                <th id=\"T_25141952_d3d6_11ea_93a9_54e1adc9055blevel1_row1\" class=\"row_heading level1 row1\" >1</th>\n",
       "                        <td id=\"T_25141952_d3d6_11ea_93a9_54e1adc9055brow1_col0\" class=\"data row1 col0\" >91</td>\n",
       "                        <td id=\"T_25141952_d3d6_11ea_93a9_54e1adc9055brow1_col1\" class=\"data row1 col1\" >70</td>\n",
       "                        <td id=\"T_25141952_d3d6_11ea_93a9_54e1adc9055brow1_col2\" class=\"data row1 col2\" >72</td>\n",
       "                        <td id=\"T_25141952_d3d6_11ea_93a9_54e1adc9055brow1_col3\" class=\"data row1 col3\" >233</td>\n",
       "            </tr>\n",
       "            <tr>\n",
       "                        <th id=\"T_25141952_d3d6_11ea_93a9_54e1adc9055blevel0_row2\" class=\"row_heading level0 row2\" rowspan=2>male</th>\n",
       "                        <th id=\"T_25141952_d3d6_11ea_93a9_54e1adc9055blevel1_row2\" class=\"row_heading level1 row2\" >0</th>\n",
       "                        <td id=\"T_25141952_d3d6_11ea_93a9_54e1adc9055brow2_col0\" class=\"data row2 col0\" >77</td>\n",
       "                        <td id=\"T_25141952_d3d6_11ea_93a9_54e1adc9055brow2_col1\" class=\"data row2 col1\" >91</td>\n",
       "                        <td id=\"T_25141952_d3d6_11ea_93a9_54e1adc9055brow2_col2\" class=\"data row2 col2\" >300</td>\n",
       "                        <td id=\"T_25141952_d3d6_11ea_93a9_54e1adc9055brow2_col3\" class=\"data row2 col3\" >468</td>\n",
       "            </tr>\n",
       "            <tr>\n",
       "                                <th id=\"T_25141952_d3d6_11ea_93a9_54e1adc9055blevel1_row3\" class=\"row_heading level1 row3\" >1</th>\n",
       "                        <td id=\"T_25141952_d3d6_11ea_93a9_54e1adc9055brow3_col0\" class=\"data row3 col0\" >45</td>\n",
       "                        <td id=\"T_25141952_d3d6_11ea_93a9_54e1adc9055brow3_col1\" class=\"data row3 col1\" >17</td>\n",
       "                        <td id=\"T_25141952_d3d6_11ea_93a9_54e1adc9055brow3_col2\" class=\"data row3 col2\" >47</td>\n",
       "                        <td id=\"T_25141952_d3d6_11ea_93a9_54e1adc9055brow3_col3\" class=\"data row3 col3\" >109</td>\n",
       "            </tr>\n",
       "            <tr>\n",
       "                        <th id=\"T_25141952_d3d6_11ea_93a9_54e1adc9055blevel0_row4\" class=\"row_heading level0 row4\" >All</th>\n",
       "                        <th id=\"T_25141952_d3d6_11ea_93a9_54e1adc9055blevel1_row4\" class=\"row_heading level1 row4\" ></th>\n",
       "                        <td id=\"T_25141952_d3d6_11ea_93a9_54e1adc9055brow4_col0\" class=\"data row4 col0\" >216</td>\n",
       "                        <td id=\"T_25141952_d3d6_11ea_93a9_54e1adc9055brow4_col1\" class=\"data row4 col1\" >184</td>\n",
       "                        <td id=\"T_25141952_d3d6_11ea_93a9_54e1adc9055brow4_col2\" class=\"data row4 col2\" >491</td>\n",
       "                        <td id=\"T_25141952_d3d6_11ea_93a9_54e1adc9055brow4_col3\" class=\"data row4 col3\" >891</td>\n",
       "            </tr>\n",
       "    </tbody></table>"
      ],
      "text/plain": [
       "<pandas.io.formats.style.Styler at 0x255e66ae898>"
      ]
     },
     "execution_count": 14,
     "metadata": {},
     "output_type": "execute_result"
    }
   ],
   "source": [
    "pd.crosstab([train_data.Sex,train_data.Survived],train_data.Pclass,margins=True).style.background_gradient(cmap='summer_r')"
   ]
  },
  {
   "cell_type": "code",
   "execution_count": 15,
   "metadata": {
    "_cell_guid": "458dff98-f6bb-4f40-8d1d-0aa1b19893aa",
    "_uuid": "0f629690be27786abfadf19b3a5f2f5121c09772"
   },
   "outputs": [
    {
     "data": {
      "image/png": "[encoded data removed]",
      "text/plain": [
       "<Figure size 430.5x360 with 1 Axes>"
      ]
     },
     "metadata": {
      "needs_background": "light"
     },
     "output_type": "display_data"
    }
   ],
   "source": [
    "sb.factorplot('Pclass', 'Survived', hue='Sex', data=train_data)\n",
    "plt.show()"
   ]
  },
  {
   "cell_type": "markdown",
   "metadata": {
    "_cell_guid": "b5640e42-e3b8-4b82-90c9-dc9334c260df",
    "_uuid": "08302445557a66dc313431d2e47da3f176a4406c"
   },
   "source": [
    "I use FactorPlot and CrossTab here because with these plots categorical variables can easily be visualized. Looking at FactorPlot and CrossTab, it is clear that women survival rate in Class 1 is about 95-96%, as only 3 out of 94 women died. So, it is now more clear that irrespective of Class, women are given first priority during Rescue. Because survival rate for men in even Class 1 is also very low.\n",
    "From this conclusion, PClass is also a important feature."
   ]
  },
  {
   "cell_type": "code",
   "execution_count": 16,
   "metadata": {
    "_cell_guid": "dfe8ad42-528f-400f-bff1-493dba5f3dfd",
    "_uuid": "bfbbe611e3f4f089ed5ffcf17d994485127af4f5"
   },
   "outputs": [
    {
     "name": "stdout",
     "output_type": "stream",
     "text": [
      "Oldest person Survived was of: 80.0\n",
      "Youngest person Survived was of: 0.42\n",
      "Average person Survived was of: 29.69911764705882\n"
     ]
    }
   ],
   "source": [
    "print('Oldest person Survived was of:',train_data['Age'].max())\n",
    "print('Youngest person Survived was of:',train_data['Age'].min())\n",
    "print('Average person Survived was of:',train_data['Age'].mean())"
   ]
  },
  {
   "cell_type": "code",
   "execution_count": 17,
   "metadata": {
    "_cell_guid": "623f7637-6bf0-4c11-bc39-f32e7c2cc1d7",
    "_uuid": "392a729823d49f221d95aa57dcc9d03223bf80ba"
   },
   "outputs": [
    {
     "data": {
      "image/png": "[encoded data removed]",
      "text/plain": [
       "<Figure size 1296x576 with 2 Axes>"
      ]
     },
     "metadata": {
      "needs_background": "light"
     },
     "output_type": "display_data"
    }
   ],
   "source": [
    "f,ax=plt.subplots(1,2,figsize=(18,8))\n",
    "sb.violinplot('Pclass','Age',hue='Survived',data=train_data,split=True,ax=ax[0])\n",
    "ax[0].set_title('PClass and Age vs Survived')\n",
    "ax[0].set_yticks(range(0,110,10))\n",
    "sb.violinplot(\"Sex\",\"Age\", hue=\"Survived\", data=train_data,split=True,ax=ax[1])\n",
    "ax[1].set_title('Sex and Age vs Survived')\n",
    "ax[1].set_yticks(range(0,110,10))\n",
    "plt.show()\n"
   ]
  },
  {
   "cell_type": "markdown",
   "metadata": {
    "_cell_guid": "b948bf43-0a2b-4159-a0ec-ead2728110ca",
    "_uuid": "e7f8efa74236d35aa4aeb3b5acd6f51a91e770ce"
   },
   "source": [
    "From above violen plots, following observations are clear,\n",
    "1) The no of children is increasing from Class 1 to 3, the number of children in Class 3 is greater than other two. \n",
    "2) Survival rate of children, for age 10 and below is good irrespective of Class\n",
    "3) Survival rate between age 20-30 is well and is quite better for women.\n",
    "\n",
    "Now, in Age feature we have 177 null values filled with NaN. We have to deal with it. But we can't enter mean of age in every NaN column, because our average/mean is 29 and we cannot put 29 for a child or some olde man. So we have to discover something better. \n",
    "Let's do something more interesting with dataset by exploring more."
   ]
  },
  {
   "cell_type": "markdown",
   "metadata": {
    "_cell_guid": "7845ce06-5e0f-4850-af21-6e47e3a60c3d",
    "_uuid": "0021a84e580c8010d11082766b48d1dc755c5f2a"
   },
   "source": [
    "What is, if I look at 'Name' feature, It looks interesting. Let's check it...."
   ]
  },
  {
   "cell_type": "code",
   "execution_count": 18,
   "metadata": {
    "_cell_guid": "1aa29a1a-34dd-4270-8f8c-8022dd806ba0",
    "_uuid": "00ba326def819939d616f175f150b09026e5f623"
   },
   "outputs": [],
   "source": [
    "train_data['Initial']=0\n",
    "for i in train_data:\n",
    "    train_data['Initial']=train_data.Name.str.extract('([A-Za-z]+)\\.') #extracting Name initials"
   ]
  },
  {
   "cell_type": "code",
   "execution_count": 19,
   "metadata": {
    "_cell_guid": "9289e051-d21d-4fc9-b774-224a436ba5c9",
    "_uuid": "4a1568cce94ad94c6049266831cb6ad2acbdfb06"
   },
   "outputs": [
    {
     "data": {
      "text/html": [
       "<style  type=\"text/css\" >\n",
       "    #T_50db6058_d3d6_11ea_bec0_54e1adc9055brow0_col0 {\n",
       "            background-color:  #ffff66;\n",
       "            color:  #000000;\n",
       "        }    #T_50db6058_d3d6_11ea_bec0_54e1adc9055brow0_col1 {\n",
       "            background-color:  #ffff66;\n",
       "            color:  #000000;\n",
       "        }    #T_50db6058_d3d6_11ea_bec0_54e1adc9055brow0_col2 {\n",
       "            background-color:  #008066;\n",
       "            color:  #f1f1f1;\n",
       "        }    #T_50db6058_d3d6_11ea_bec0_54e1adc9055brow0_col3 {\n",
       "            background-color:  #ffff66;\n",
       "            color:  #000000;\n",
       "        }    #T_50db6058_d3d6_11ea_bec0_54e1adc9055brow0_col4 {\n",
       "            background-color:  #ffff66;\n",
       "            color:  #000000;\n",
       "        }    #T_50db6058_d3d6_11ea_bec0_54e1adc9055brow0_col5 {\n",
       "            background-color:  #ffff66;\n",
       "            color:  #000000;\n",
       "        }    #T_50db6058_d3d6_11ea_bec0_54e1adc9055brow0_col6 {\n",
       "            background-color:  #008066;\n",
       "            color:  #f1f1f1;\n",
       "        }    #T_50db6058_d3d6_11ea_bec0_54e1adc9055brow0_col7 {\n",
       "            background-color:  #ffff66;\n",
       "            color:  #000000;\n",
       "        }    #T_50db6058_d3d6_11ea_bec0_54e1adc9055brow0_col8 {\n",
       "            background-color:  #ffff66;\n",
       "            color:  #000000;\n",
       "        }    #T_50db6058_d3d6_11ea_bec0_54e1adc9055brow0_col9 {\n",
       "            background-color:  #008066;\n",
       "            color:  #f1f1f1;\n",
       "        }    #T_50db6058_d3d6_11ea_bec0_54e1adc9055brow0_col10 {\n",
       "            background-color:  #008066;\n",
       "            color:  #f1f1f1;\n",
       "        }    #T_50db6058_d3d6_11ea_bec0_54e1adc9055brow0_col11 {\n",
       "            background-color:  #008066;\n",
       "            color:  #f1f1f1;\n",
       "        }    #T_50db6058_d3d6_11ea_bec0_54e1adc9055brow0_col12 {\n",
       "            background-color:  #ffff66;\n",
       "            color:  #000000;\n",
       "        }    #T_50db6058_d3d6_11ea_bec0_54e1adc9055brow0_col13 {\n",
       "            background-color:  #008066;\n",
       "            color:  #f1f1f1;\n",
       "        }    #T_50db6058_d3d6_11ea_bec0_54e1adc9055brow0_col14 {\n",
       "            background-color:  #008066;\n",
       "            color:  #f1f1f1;\n",
       "        }    #T_50db6058_d3d6_11ea_bec0_54e1adc9055brow0_col15 {\n",
       "            background-color:  #ffff66;\n",
       "            color:  #000000;\n",
       "        }    #T_50db6058_d3d6_11ea_bec0_54e1adc9055brow0_col16 {\n",
       "            background-color:  #ffff66;\n",
       "            color:  #000000;\n",
       "        }    #T_50db6058_d3d6_11ea_bec0_54e1adc9055brow1_col0 {\n",
       "            background-color:  #008066;\n",
       "            color:  #f1f1f1;\n",
       "        }    #T_50db6058_d3d6_11ea_bec0_54e1adc9055brow1_col1 {\n",
       "            background-color:  #008066;\n",
       "            color:  #f1f1f1;\n",
       "        }    #T_50db6058_d3d6_11ea_bec0_54e1adc9055brow1_col2 {\n",
       "            background-color:  #ffff66;\n",
       "            color:  #000000;\n",
       "        }    #T_50db6058_d3d6_11ea_bec0_54e1adc9055brow1_col3 {\n",
       "            background-color:  #008066;\n",
       "            color:  #f1f1f1;\n",
       "        }    #T_50db6058_d3d6_11ea_bec0_54e1adc9055brow1_col4 {\n",
       "            background-color:  #008066;\n",
       "            color:  #f1f1f1;\n",
       "        }    #T_50db6058_d3d6_11ea_bec0_54e1adc9055brow1_col5 {\n",
       "            background-color:  #008066;\n",
       "            color:  #f1f1f1;\n",
       "        }    #T_50db6058_d3d6_11ea_bec0_54e1adc9055brow1_col6 {\n",
       "            background-color:  #ffff66;\n",
       "            color:  #000000;\n",
       "        }    #T_50db6058_d3d6_11ea_bec0_54e1adc9055brow1_col7 {\n",
       "            background-color:  #008066;\n",
       "            color:  #f1f1f1;\n",
       "        }    #T_50db6058_d3d6_11ea_bec0_54e1adc9055brow1_col8 {\n",
       "            background-color:  #008066;\n",
       "            color:  #f1f1f1;\n",
       "        }    #T_50db6058_d3d6_11ea_bec0_54e1adc9055brow1_col9 {\n",
       "            background-color:  #ffff66;\n",
       "            color:  #000000;\n",
       "        }    #T_50db6058_d3d6_11ea_bec0_54e1adc9055brow1_col10 {\n",
       "            background-color:  #ffff66;\n",
       "            color:  #000000;\n",
       "        }    #T_50db6058_d3d6_11ea_bec0_54e1adc9055brow1_col11 {\n",
       "            background-color:  #ffff66;\n",
       "            color:  #000000;\n",
       "        }    #T_50db6058_d3d6_11ea_bec0_54e1adc9055brow1_col12 {\n",
       "            background-color:  #008066;\n",
       "            color:  #f1f1f1;\n",
       "        }    #T_50db6058_d3d6_11ea_bec0_54e1adc9055brow1_col13 {\n",
       "            background-color:  #ffff66;\n",
       "            color:  #000000;\n",
       "        }    #T_50db6058_d3d6_11ea_bec0_54e1adc9055brow1_col14 {\n",
       "            background-color:  #ffff66;\n",
       "            color:  #000000;\n",
       "        }    #T_50db6058_d3d6_11ea_bec0_54e1adc9055brow1_col15 {\n",
       "            background-color:  #008066;\n",
       "            color:  #f1f1f1;\n",
       "        }    #T_50db6058_d3d6_11ea_bec0_54e1adc9055brow1_col16 {\n",
       "            background-color:  #008066;\n",
       "            color:  #f1f1f1;\n",
       "        }</style><table id=\"T_50db6058_d3d6_11ea_bec0_54e1adc9055b\" ><thead>    <tr>        <th class=\"index_name level0\" >Initial</th>        <th class=\"col_heading level0 col0\" >Capt</th>        <th class=\"col_heading level0 col1\" >Col</th>        <th class=\"col_heading level0 col2\" >Countess</th>        <th class=\"col_heading level0 col3\" >Don</th>        <th class=\"col_heading level0 col4\" >Dr</th>        <th class=\"col_heading level0 col5\" >Jonkheer</th>        <th class=\"col_heading level0 col6\" >Lady</th>        <th class=\"col_heading level0 col7\" >Major</th>        <th class=\"col_heading level0 col8\" >Master</th>        <th class=\"col_heading level0 col9\" >Miss</th>        <th class=\"col_heading level0 col10\" >Mlle</th>        <th class=\"col_heading level0 col11\" >Mme</th>        <th class=\"col_heading level0 col12\" >Mr</th>        <th class=\"col_heading level0 col13\" >Mrs</th>        <th class=\"col_heading level0 col14\" >Ms</th>        <th class=\"col_heading level0 col15\" >Rev</th>        <th class=\"col_heading level0 col16\" >Sir</th>    </tr>    <tr>        <th class=\"index_name level0\" >Sex</th>        <th class=\"blank\" ></th>        <th class=\"blank\" ></th>        <th class=\"blank\" ></th>        <th class=\"blank\" ></th>        <th class=\"blank\" ></th>        <th class=\"blank\" ></th>        <th class=\"blank\" ></th>        <th class=\"blank\" ></th>        <th class=\"blank\" ></th>        <th class=\"blank\" ></th>        <th class=\"blank\" ></th>        <th class=\"blank\" ></th>        <th class=\"blank\" ></th>        <th class=\"blank\" ></th>        <th class=\"blank\" ></th>        <th class=\"blank\" ></th>        <th class=\"blank\" ></th>    </tr></thead><tbody>\n",
       "                <tr>\n",
       "                        <th id=\"T_50db6058_d3d6_11ea_bec0_54e1adc9055blevel0_row0\" class=\"row_heading level0 row0\" >female</th>\n",
       "                        <td id=\"T_50db6058_d3d6_11ea_bec0_54e1adc9055brow0_col0\" class=\"data row0 col0\" >0</td>\n",
       "                        <td id=\"T_50db6058_d3d6_11ea_bec0_54e1adc9055brow0_col1\" class=\"data row0 col1\" >0</td>\n",
       "                        <td id=\"T_50db6058_d3d6_11ea_bec0_54e1adc9055brow0_col2\" class=\"data row0 col2\" >1</td>\n",
       "                        <td id=\"T_50db6058_d3d6_11ea_bec0_54e1adc9055brow0_col3\" class=\"data row0 col3\" >0</td>\n",
       "                        <td id=\"T_50db6058_d3d6_11ea_bec0_54e1adc9055brow0_col4\" class=\"data row0 col4\" >1</td>\n",
       "                        <td id=\"T_50db6058_d3d6_11ea_bec0_54e1adc9055brow0_col5\" class=\"data row0 col5\" >0</td>\n",
       "                        <td id=\"T_50db6058_d3d6_11ea_bec0_54e1adc9055brow0_col6\" class=\"data row0 col6\" >1</td>\n",
       "                        <td id=\"T_50db6058_d3d6_11ea_bec0_54e1adc9055brow0_col7\" class=\"data row0 col7\" >0</td>\n",
       "                        <td id=\"T_50db6058_d3d6_11ea_bec0_54e1adc9055brow0_col8\" class=\"data row0 col8\" >0</td>\n",
       "                        <td id=\"T_50db6058_d3d6_11ea_bec0_54e1adc9055brow0_col9\" class=\"data row0 col9\" >182</td>\n",
       "                        <td id=\"T_50db6058_d3d6_11ea_bec0_54e1adc9055brow0_col10\" class=\"data row0 col10\" >2</td>\n",
       "                        <td id=\"T_50db6058_d3d6_11ea_bec0_54e1adc9055brow0_col11\" class=\"data row0 col11\" >1</td>\n",
       "                        <td id=\"T_50db6058_d3d6_11ea_bec0_54e1adc9055brow0_col12\" class=\"data row0 col12\" >0</td>\n",
       "                        <td id=\"T_50db6058_d3d6_11ea_bec0_54e1adc9055brow0_col13\" class=\"data row0 col13\" >125</td>\n",
       "                        <td id=\"T_50db6058_d3d6_11ea_bec0_54e1adc9055brow0_col14\" class=\"data row0 col14\" >1</td>\n",
       "                        <td id=\"T_50db6058_d3d6_11ea_bec0_54e1adc9055brow0_col15\" class=\"data row0 col15\" >0</td>\n",
       "                        <td id=\"T_50db6058_d3d6_11ea_bec0_54e1adc9055brow0_col16\" class=\"data row0 col16\" >0</td>\n",
       "            </tr>\n",
       "            <tr>\n",
       "                        <th id=\"T_50db6058_d3d6_11ea_bec0_54e1adc9055blevel0_row1\" class=\"row_heading level0 row1\" >male</th>\n",
       "                        <td id=\"T_50db6058_d3d6_11ea_bec0_54e1adc9055brow1_col0\" class=\"data row1 col0\" >1</td>\n",
       "                        <td id=\"T_50db6058_d3d6_11ea_bec0_54e1adc9055brow1_col1\" class=\"data row1 col1\" >2</td>\n",
       "                        <td id=\"T_50db6058_d3d6_11ea_bec0_54e1adc9055brow1_col2\" class=\"data row1 col2\" >0</td>\n",
       "                        <td id=\"T_50db6058_d3d6_11ea_bec0_54e1adc9055brow1_col3\" class=\"data row1 col3\" >1</td>\n",
       "                        <td id=\"T_50db6058_d3d6_11ea_bec0_54e1adc9055brow1_col4\" class=\"data row1 col4\" >6</td>\n",
       "                        <td id=\"T_50db6058_d3d6_11ea_bec0_54e1adc9055brow1_col5\" class=\"data row1 col5\" >1</td>\n",
       "                        <td id=\"T_50db6058_d3d6_11ea_bec0_54e1adc9055brow1_col6\" class=\"data row1 col6\" >0</td>\n",
       "                        <td id=\"T_50db6058_d3d6_11ea_bec0_54e1adc9055brow1_col7\" class=\"data row1 col7\" >2</td>\n",
       "                        <td id=\"T_50db6058_d3d6_11ea_bec0_54e1adc9055brow1_col8\" class=\"data row1 col8\" >40</td>\n",
       "                        <td id=\"T_50db6058_d3d6_11ea_bec0_54e1adc9055brow1_col9\" class=\"data row1 col9\" >0</td>\n",
       "                        <td id=\"T_50db6058_d3d6_11ea_bec0_54e1adc9055brow1_col10\" class=\"data row1 col10\" >0</td>\n",
       "                        <td id=\"T_50db6058_d3d6_11ea_bec0_54e1adc9055brow1_col11\" class=\"data row1 col11\" >0</td>\n",
       "                        <td id=\"T_50db6058_d3d6_11ea_bec0_54e1adc9055brow1_col12\" class=\"data row1 col12\" >517</td>\n",
       "                        <td id=\"T_50db6058_d3d6_11ea_bec0_54e1adc9055brow1_col13\" class=\"data row1 col13\" >0</td>\n",
       "                        <td id=\"T_50db6058_d3d6_11ea_bec0_54e1adc9055brow1_col14\" class=\"data row1 col14\" >0</td>\n",
       "                        <td id=\"T_50db6058_d3d6_11ea_bec0_54e1adc9055brow1_col15\" class=\"data row1 col15\" >6</td>\n",
       "                        <td id=\"T_50db6058_d3d6_11ea_bec0_54e1adc9055brow1_col16\" class=\"data row1 col16\" >1</td>\n",
       "            </tr>\n",
       "    </tbody></table>"
      ],
      "text/plain": [
       "<pandas.io.formats.style.Styler at 0x255e7108c88>"
      ]
     },
     "execution_count": 19,
     "metadata": {},
     "output_type": "execute_result"
    }
   ],
   "source": [
    "pd.crosstab(train_data.Initial,train_data.Sex).T.style.background_gradient(cmap='summer_r')\n"
   ]
  },
  {
   "cell_type": "markdown",
   "metadata": {
    "_cell_guid": "8002063e-0472-4277-aa71-898a82691958",
    "_uuid": "e57a594cb3ec11145e1538b030834963b1a38fff"
   },
   "source": [
    "There are many names which are not relevant like Mr, Mrs etc. So I will replace them with some relevant names,"
   ]
  },
  {
   "cell_type": "code",
   "execution_count": 20,
   "metadata": {
    "_cell_guid": "2c766ba5-c271-41bb-9375-9a7ba28c761e",
    "_uuid": "be92506f66b163d85cab44e4eca42d832aa01a85"
   },
   "outputs": [],
   "source": [
    "train_data['Initial'].replace(['Mlle','Mme','Ms','Dr','Major','Lady','Countess',\n",
    "                               'Jonkheer','Col','Rev','Capt','Sir','Don'],['Miss',\n",
    "                                'Miss','Miss','Mr','Mr','Mrs','Mrs','Other','Other','Other','Mr','Mr','Mr'],inplace=True)\n"
   ]
  },
  {
   "cell_type": "code",
   "execution_count": 21,
   "metadata": {
    "_cell_guid": "40c865d9-4c7d-4fc4-a7fc-177e56fea22e",
    "_uuid": "2497881aa84c4f77dbfcf1252b2264ba697b5d12"
   },
   "outputs": [
    {
     "data": {
      "text/plain": [
       "Initial\n",
       "Master     4.574167\n",
       "Miss      21.860000\n",
       "Mr        32.739609\n",
       "Mrs       35.981818\n",
       "Other     45.888889\n",
       "Name: Age, dtype: float64"
      ]
     },
     "execution_count": 21,
     "metadata": {},
     "output_type": "execute_result"
    }
   ],
   "source": [
    "train_data.groupby('Initial')['Age'].mean()"
   ]
  },
  {
   "cell_type": "code",
   "execution_count": 22,
   "metadata": {
    "_cell_guid": "bb997eb2-a34e-4401-ab16-53c1e0789e02",
    "_uuid": "66b23092f07041fad20e6bd68aba4874982d42e6"
   },
   "outputs": [],
   "source": [
    "train_data.loc[(train_data.Age.isnull()) & (train_data.Initial=='Mr'),'Age']=33\n",
    "train_data.loc[(train_data.Age.isnull()) & (train_data.Initial=='Mrs'),'Age']=36\n",
    "train_data.loc[(train_data.Age.isnull()) & (train_data.Initial=='Master'),'Age']=5\n",
    "train_data.loc[(train_data.Age.isnull()) & (train_data.Initial=='Miss'),'Age']=22\n",
    "train_data.loc[(train_data.Age.isnull()) & (train_data.Initial=='Other'),'Age']=46"
   ]
  },
  {
   "cell_type": "code",
   "execution_count": 23,
   "metadata": {
    "_cell_guid": "f962c1fe-35d1-475b-9635-d57e7c420315",
    "_uuid": "438fcbe0457287ec094b253c81f2a9fecf6e3c56"
   },
   "outputs": [
    {
     "data": {
      "text/plain": [
       "False"
      ]
     },
     "execution_count": 23,
     "metadata": {},
     "output_type": "execute_result"
    }
   ],
   "source": [
    "train_data.Age.isnull().any()\n"
   ]
  },
  {
   "cell_type": "code",
   "execution_count": 24,
   "metadata": {
    "_cell_guid": "b6d56cd3-a67f-4390-a810-0607b4933f8b",
    "_uuid": "7f0f35d293722d47ca53c380fab2249cc5d2a964"
   },
   "outputs": [
    {
     "data": {
      "image/png": "[encoded data removed]",
      "text/plain": [
       "<Figure size 1440x1440 with 2 Axes>"
      ]
     },
     "metadata": {
      "needs_background": "light"
     },
     "output_type": "display_data"
    }
   ],
   "source": [
    "f,ax=plt.subplots(1,2,figsize=(20,20))\n",
    "train_data[train_data['Survived']==0].Age.plot.hist(ax=ax[0],bins=20,edgecolor='black',color='red')\n",
    "ax[0].set_title('Survived = 0')\n",
    "x1=list(range(0,85,5))\n",
    "ax[0].set_xticks(x1)\n",
    "train_data[train_data['Survived']==1].Age.plot.hist(ax=ax[1],bins=20,edgecolor='black',color='green')\n",
    "x2=list(range(0,85,5))\n",
    "ax[1].set_xticks(x2)\n",
    "ax[1].set_title('Survived = 1')\n",
    "plt.show()\n"
   ]
  },
  {
   "cell_type": "markdown",
   "metadata": {
    "_cell_guid": "6aab367a-e7b7-4770-a3b1-6d59e2c77eec",
    "_uuid": "8ad2ad7f5b3b650fd25a5f5005739bbc4ec08cad"
   },
   "source": [
    "From the above plots, I found the following observations\n"
   ]
  },
  {
   "cell_type": "markdown",
   "metadata": {
    "_cell_guid": "d48c2228-7dbf-4a69-96e0-fb2688e2592e",
    "_uuid": "fd02e90f9405f908ec564ca976a0467de8fe7f25"
   },
   "source": [
    "(1) First priority during Rescue is given to children and women, as the persons<5 are save by large numbers\n",
    "(2) The oldest saved passanger is of 80\n",
    "(3) The most deaths were between 30-40"
   ]
  },
  {
   "cell_type": "code",
   "execution_count": 25,
   "metadata": {
    "_cell_guid": "b759c434-0a85-4b26-8c8b-526dfa0c560e",
    "_uuid": "9d5087ff08dc40bd3c07eb528ab9769a2d559264"
   },
   "outputs": [
    {
     "data": {
      "image/png": "[encoded data removed]",
      "text/plain": [
       "<Figure size 1800x360 with 5 Axes>"
      ]
     },
     "metadata": {
      "needs_background": "light"
     },
     "output_type": "display_data"
    }
   ],
   "source": [
    "sb.factorplot('Pclass','Survived',col='Initial',data=train_data)\n",
    "plt.show()\n"
   ]
  },
  {
   "cell_type": "markdown",
   "metadata": {
    "_cell_guid": "6dcec7f5-2d1d-4ab4-b4c2-d05678d17840",
    "_uuid": "745d9d544608918476f11f800086d373cc0a6e14"
   },
   "source": [
    "From the above FactorPlots it is Clearly seen that women and children were saved irrespective of PClass"
   ]
  },
  {
   "cell_type": "markdown",
   "metadata": {
    "_cell_guid": "325218e5-1098-4873-86e8-825b2b657497",
    "_uuid": "1eac6b235e6ce9903b3e8bd3c1074f6f5e18fd46"
   },
   "source": [
    "Let's explore some more"
   ]
  },
  {
   "cell_type": "markdown",
   "metadata": {
    "_cell_guid": "f789c8de-c54a-4de6-8d48-23326f0047a2",
    "_uuid": "664569712e94f4c1fa4329f718763bb04a39a156"
   },
   "source": [
    "# Feature: SibSip"
   ]
  },
  {
   "cell_type": "markdown",
   "metadata": {
    "_cell_guid": "411eafc5-f8fc-43e8-a521-425ed3e4eca7",
    "_uuid": "b0855581eb534395babfc51f13069e6a55340794"
   },
   "source": [
    "SibSip feature indicates that whether a person is alone or with his family. Siblings=brother,sister, etc\n",
    "and Spouse= husband,wife"
   ]
  },
  {
   "cell_type": "code",
   "execution_count": 26,
   "metadata": {
    "_cell_guid": "9e188e6a-b0c6-4a83-a843-b3551300e933",
    "_uuid": "663a48b6c547bd4eb7ae4a42935f4873c102c946"
   },
   "outputs": [
    {
     "data": {
      "text/html": [
       "<style  type=\"text/css\" >\n",
       "    #T_878d465c_d3d6_11ea_8d73_54e1adc9055brow0_col0 {\n",
       "            background-color:  #008066;\n",
       "            color:  #f1f1f1;\n",
       "        }    #T_878d465c_d3d6_11ea_8d73_54e1adc9055brow0_col1 {\n",
       "            background-color:  #008066;\n",
       "            color:  #f1f1f1;\n",
       "        }    #T_878d465c_d3d6_11ea_8d73_54e1adc9055brow1_col0 {\n",
       "            background-color:  #c4e266;\n",
       "            color:  #000000;\n",
       "        }    #T_878d465c_d3d6_11ea_8d73_54e1adc9055brow1_col1 {\n",
       "            background-color:  #77bb66;\n",
       "            color:  #000000;\n",
       "        }    #T_878d465c_d3d6_11ea_8d73_54e1adc9055brow2_col0 {\n",
       "            background-color:  #f9fc66;\n",
       "            color:  #000000;\n",
       "        }    #T_878d465c_d3d6_11ea_8d73_54e1adc9055brow2_col1 {\n",
       "            background-color:  #f0f866;\n",
       "            color:  #000000;\n",
       "        }    #T_878d465c_d3d6_11ea_8d73_54e1adc9055brow3_col0 {\n",
       "            background-color:  #fbfd66;\n",
       "            color:  #000000;\n",
       "        }    #T_878d465c_d3d6_11ea_8d73_54e1adc9055brow3_col1 {\n",
       "            background-color:  #fbfd66;\n",
       "            color:  #000000;\n",
       "        }    #T_878d465c_d3d6_11ea_8d73_54e1adc9055brow4_col0 {\n",
       "            background-color:  #f9fc66;\n",
       "            color:  #000000;\n",
       "        }    #T_878d465c_d3d6_11ea_8d73_54e1adc9055brow4_col1 {\n",
       "            background-color:  #fcfe66;\n",
       "            color:  #000000;\n",
       "        }    #T_878d465c_d3d6_11ea_8d73_54e1adc9055brow5_col0 {\n",
       "            background-color:  #ffff66;\n",
       "            color:  #000000;\n",
       "        }    #T_878d465c_d3d6_11ea_8d73_54e1adc9055brow5_col1 {\n",
       "            background-color:  #ffff66;\n",
       "            color:  #000000;\n",
       "        }    #T_878d465c_d3d6_11ea_8d73_54e1adc9055brow6_col0 {\n",
       "            background-color:  #fefe66;\n",
       "            color:  #000000;\n",
       "        }    #T_878d465c_d3d6_11ea_8d73_54e1adc9055brow6_col1 {\n",
       "            background-color:  #ffff66;\n",
       "            color:  #000000;\n",
       "        }</style><table id=\"T_878d465c_d3d6_11ea_8d73_54e1adc9055b\" ><thead>    <tr>        <th class=\"index_name level0\" >Survived</th>        <th class=\"col_heading level0 col0\" >0</th>        <th class=\"col_heading level0 col1\" >1</th>    </tr>    <tr>        <th class=\"index_name level0\" >SibSp</th>        <th class=\"blank\" ></th>        <th class=\"blank\" ></th>    </tr></thead><tbody>\n",
       "                <tr>\n",
       "                        <th id=\"T_878d465c_d3d6_11ea_8d73_54e1adc9055blevel0_row0\" class=\"row_heading level0 row0\" >0</th>\n",
       "                        <td id=\"T_878d465c_d3d6_11ea_8d73_54e1adc9055brow0_col0\" class=\"data row0 col0\" >398</td>\n",
       "                        <td id=\"T_878d465c_d3d6_11ea_8d73_54e1adc9055brow0_col1\" class=\"data row0 col1\" >210</td>\n",
       "            </tr>\n",
       "            <tr>\n",
       "                        <th id=\"T_878d465c_d3d6_11ea_8d73_54e1adc9055blevel0_row1\" class=\"row_heading level0 row1\" >1</th>\n",
       "                        <td id=\"T_878d465c_d3d6_11ea_8d73_54e1adc9055brow1_col0\" class=\"data row1 col0\" >97</td>\n",
       "                        <td id=\"T_878d465c_d3d6_11ea_8d73_54e1adc9055brow1_col1\" class=\"data row1 col1\" >112</td>\n",
       "            </tr>\n",
       "            <tr>\n",
       "                        <th id=\"T_878d465c_d3d6_11ea_8d73_54e1adc9055blevel0_row2\" class=\"row_heading level0 row2\" >2</th>\n",
       "                        <td id=\"T_878d465c_d3d6_11ea_8d73_54e1adc9055brow2_col0\" class=\"data row2 col0\" >15</td>\n",
       "                        <td id=\"T_878d465c_d3d6_11ea_8d73_54e1adc9055brow2_col1\" class=\"data row2 col1\" >13</td>\n",
       "            </tr>\n",
       "            <tr>\n",
       "                        <th id=\"T_878d465c_d3d6_11ea_8d73_54e1adc9055blevel0_row3\" class=\"row_heading level0 row3\" >3</th>\n",
       "                        <td id=\"T_878d465c_d3d6_11ea_8d73_54e1adc9055brow3_col0\" class=\"data row3 col0\" >12</td>\n",
       "                        <td id=\"T_878d465c_d3d6_11ea_8d73_54e1adc9055brow3_col1\" class=\"data row3 col1\" >4</td>\n",
       "            </tr>\n",
       "            <tr>\n",
       "                        <th id=\"T_878d465c_d3d6_11ea_8d73_54e1adc9055blevel0_row4\" class=\"row_heading level0 row4\" >4</th>\n",
       "                        <td id=\"T_878d465c_d3d6_11ea_8d73_54e1adc9055brow4_col0\" class=\"data row4 col0\" >15</td>\n",
       "                        <td id=\"T_878d465c_d3d6_11ea_8d73_54e1adc9055brow4_col1\" class=\"data row4 col1\" >3</td>\n",
       "            </tr>\n",
       "            <tr>\n",
       "                        <th id=\"T_878d465c_d3d6_11ea_8d73_54e1adc9055blevel0_row5\" class=\"row_heading level0 row5\" >5</th>\n",
       "                        <td id=\"T_878d465c_d3d6_11ea_8d73_54e1adc9055brow5_col0\" class=\"data row5 col0\" >5</td>\n",
       "                        <td id=\"T_878d465c_d3d6_11ea_8d73_54e1adc9055brow5_col1\" class=\"data row5 col1\" >0</td>\n",
       "            </tr>\n",
       "            <tr>\n",
       "                        <th id=\"T_878d465c_d3d6_11ea_8d73_54e1adc9055blevel0_row6\" class=\"row_heading level0 row6\" >8</th>\n",
       "                        <td id=\"T_878d465c_d3d6_11ea_8d73_54e1adc9055brow6_col0\" class=\"data row6 col0\" >7</td>\n",
       "                        <td id=\"T_878d465c_d3d6_11ea_8d73_54e1adc9055brow6_col1\" class=\"data row6 col1\" >0</td>\n",
       "            </tr>\n",
       "    </tbody></table>"
      ],
      "text/plain": [
       "<pandas.io.formats.style.Styler at 0x255e5845860>"
      ]
     },
     "execution_count": 26,
     "metadata": {},
     "output_type": "execute_result"
    }
   ],
   "source": [
    "pd.crosstab([train_data.SibSp],train_data.Survived).style.background_gradient('summer_r')"
   ]
  },
  {
   "cell_type": "code",
   "execution_count": 27,
   "metadata": {
    "_cell_guid": "5e29de27-9fcb-47c3-bcd7-fc941351694a",
    "_uuid": "b45f146653abef8f113657e81a6d49e0c54605ca"
   },
   "outputs": [
    {
     "data": {
      "image/png": "[encoded data removed]",
      "text/plain": [
       "<Figure size 1440x576 with 2 Axes>"
      ]
     },
     "metadata": {
      "needs_background": "light"
     },
     "output_type": "display_data"
    }
   ],
   "source": [
    "f,ax=plt.subplots(1,2,figsize=(20,8))\n",
    "sb.barplot('SibSp','Survived', data=train_data,ax=ax[0])\n",
    "ax[0].set_title('SipSp vs Survived in BarPlot')\n",
    "sb.factorplot('SibSp','Survived', data=train_data,ax=ax[1])\n",
    "ax[1].set_title('SibSp vs Survived in FactorPlot')\n",
    "plt.close(2)\n",
    "plt.show()\n"
   ]
  },
  {
   "cell_type": "code",
   "execution_count": 28,
   "metadata": {
    "_cell_guid": "5bd1649c-f674-4cb8-b566-5daa966f785b",
    "_uuid": "1a734d2421ce6bb7be165841a750fd499ca98aa7"
   },
   "outputs": [
    {
     "data": {
      "text/html": [
       "<style  type=\"text/css\" >\n",
       "    #T_963977e2_d3d6_11ea_821e_54e1adc9055brow0_col0 {\n",
       "            background-color:  #008066;\n",
       "            color:  #f1f1f1;\n",
       "        }    #T_963977e2_d3d6_11ea_821e_54e1adc9055brow0_col1 {\n",
       "            background-color:  #008066;\n",
       "            color:  #f1f1f1;\n",
       "        }    #T_963977e2_d3d6_11ea_821e_54e1adc9055brow0_col2 {\n",
       "            background-color:  #008066;\n",
       "            color:  #f1f1f1;\n",
       "        }    #T_963977e2_d3d6_11ea_821e_54e1adc9055brow1_col0 {\n",
       "            background-color:  #7bbd66;\n",
       "            color:  #000000;\n",
       "        }    #T_963977e2_d3d6_11ea_821e_54e1adc9055brow1_col1 {\n",
       "            background-color:  #8ac466;\n",
       "            color:  #000000;\n",
       "        }    #T_963977e2_d3d6_11ea_821e_54e1adc9055brow1_col2 {\n",
       "            background-color:  #c6e266;\n",
       "            color:  #000000;\n",
       "        }    #T_963977e2_d3d6_11ea_821e_54e1adc9055brow2_col0 {\n",
       "            background-color:  #f6fa66;\n",
       "            color:  #000000;\n",
       "        }    #T_963977e2_d3d6_11ea_821e_54e1adc9055brow2_col1 {\n",
       "            background-color:  #eef666;\n",
       "            color:  #000000;\n",
       "        }    #T_963977e2_d3d6_11ea_821e_54e1adc9055brow2_col2 {\n",
       "            background-color:  #f8fc66;\n",
       "            color:  #000000;\n",
       "        }    #T_963977e2_d3d6_11ea_821e_54e1adc9055brow3_col0 {\n",
       "            background-color:  #fafc66;\n",
       "            color:  #000000;\n",
       "        }    #T_963977e2_d3d6_11ea_821e_54e1adc9055brow3_col1 {\n",
       "            background-color:  #fdfe66;\n",
       "            color:  #000000;\n",
       "        }    #T_963977e2_d3d6_11ea_821e_54e1adc9055brow3_col2 {\n",
       "            background-color:  #fafc66;\n",
       "            color:  #000000;\n",
       "        }    #T_963977e2_d3d6_11ea_821e_54e1adc9055brow4_col0 {\n",
       "            background-color:  #ffff66;\n",
       "            color:  #000000;\n",
       "        }    #T_963977e2_d3d6_11ea_821e_54e1adc9055brow4_col1 {\n",
       "            background-color:  #ffff66;\n",
       "            color:  #000000;\n",
       "        }    #T_963977e2_d3d6_11ea_821e_54e1adc9055brow4_col2 {\n",
       "            background-color:  #f6fa66;\n",
       "            color:  #000000;\n",
       "        }    #T_963977e2_d3d6_11ea_821e_54e1adc9055brow5_col0 {\n",
       "            background-color:  #ffff66;\n",
       "            color:  #000000;\n",
       "        }    #T_963977e2_d3d6_11ea_821e_54e1adc9055brow5_col1 {\n",
       "            background-color:  #ffff66;\n",
       "            color:  #000000;\n",
       "        }    #T_963977e2_d3d6_11ea_821e_54e1adc9055brow5_col2 {\n",
       "            background-color:  #ffff66;\n",
       "            color:  #000000;\n",
       "        }    #T_963977e2_d3d6_11ea_821e_54e1adc9055brow6_col0 {\n",
       "            background-color:  #ffff66;\n",
       "            color:  #000000;\n",
       "        }    #T_963977e2_d3d6_11ea_821e_54e1adc9055brow6_col1 {\n",
       "            background-color:  #ffff66;\n",
       "            color:  #000000;\n",
       "        }    #T_963977e2_d3d6_11ea_821e_54e1adc9055brow6_col2 {\n",
       "            background-color:  #fefe66;\n",
       "            color:  #000000;\n",
       "        }</style><table id=\"T_963977e2_d3d6_11ea_821e_54e1adc9055b\" ><thead>    <tr>        <th class=\"index_name level0\" >Pclass</th>        <th class=\"col_heading level0 col0\" >1</th>        <th class=\"col_heading level0 col1\" >2</th>        <th class=\"col_heading level0 col2\" >3</th>    </tr>    <tr>        <th class=\"index_name level0\" >SibSp</th>        <th class=\"blank\" ></th>        <th class=\"blank\" ></th>        <th class=\"blank\" ></th>    </tr></thead><tbody>\n",
       "                <tr>\n",
       "                        <th id=\"T_963977e2_d3d6_11ea_821e_54e1adc9055blevel0_row0\" class=\"row_heading level0 row0\" >0</th>\n",
       "                        <td id=\"T_963977e2_d3d6_11ea_821e_54e1adc9055brow0_col0\" class=\"data row0 col0\" >137</td>\n",
       "                        <td id=\"T_963977e2_d3d6_11ea_821e_54e1adc9055brow0_col1\" class=\"data row0 col1\" >120</td>\n",
       "                        <td id=\"T_963977e2_d3d6_11ea_821e_54e1adc9055brow0_col2\" class=\"data row0 col2\" >351</td>\n",
       "            </tr>\n",
       "            <tr>\n",
       "                        <th id=\"T_963977e2_d3d6_11ea_821e_54e1adc9055blevel0_row1\" class=\"row_heading level0 row1\" >1</th>\n",
       "                        <td id=\"T_963977e2_d3d6_11ea_821e_54e1adc9055brow1_col0\" class=\"data row1 col0\" >71</td>\n",
       "                        <td id=\"T_963977e2_d3d6_11ea_821e_54e1adc9055brow1_col1\" class=\"data row1 col1\" >55</td>\n",
       "                        <td id=\"T_963977e2_d3d6_11ea_821e_54e1adc9055brow1_col2\" class=\"data row1 col2\" >83</td>\n",
       "            </tr>\n",
       "            <tr>\n",
       "                        <th id=\"T_963977e2_d3d6_11ea_821e_54e1adc9055blevel0_row2\" class=\"row_heading level0 row2\" >2</th>\n",
       "                        <td id=\"T_963977e2_d3d6_11ea_821e_54e1adc9055brow2_col0\" class=\"data row2 col0\" >5</td>\n",
       "                        <td id=\"T_963977e2_d3d6_11ea_821e_54e1adc9055brow2_col1\" class=\"data row2 col1\" >8</td>\n",
       "                        <td id=\"T_963977e2_d3d6_11ea_821e_54e1adc9055brow2_col2\" class=\"data row2 col2\" >15</td>\n",
       "            </tr>\n",
       "            <tr>\n",
       "                        <th id=\"T_963977e2_d3d6_11ea_821e_54e1adc9055blevel0_row3\" class=\"row_heading level0 row3\" >3</th>\n",
       "                        <td id=\"T_963977e2_d3d6_11ea_821e_54e1adc9055brow3_col0\" class=\"data row3 col0\" >3</td>\n",
       "                        <td id=\"T_963977e2_d3d6_11ea_821e_54e1adc9055brow3_col1\" class=\"data row3 col1\" >1</td>\n",
       "                        <td id=\"T_963977e2_d3d6_11ea_821e_54e1adc9055brow3_col2\" class=\"data row3 col2\" >12</td>\n",
       "            </tr>\n",
       "            <tr>\n",
       "                        <th id=\"T_963977e2_d3d6_11ea_821e_54e1adc9055blevel0_row4\" class=\"row_heading level0 row4\" >4</th>\n",
       "                        <td id=\"T_963977e2_d3d6_11ea_821e_54e1adc9055brow4_col0\" class=\"data row4 col0\" >0</td>\n",
       "                        <td id=\"T_963977e2_d3d6_11ea_821e_54e1adc9055brow4_col1\" class=\"data row4 col1\" >0</td>\n",
       "                        <td id=\"T_963977e2_d3d6_11ea_821e_54e1adc9055brow4_col2\" class=\"data row4 col2\" >18</td>\n",
       "            </tr>\n",
       "            <tr>\n",
       "                        <th id=\"T_963977e2_d3d6_11ea_821e_54e1adc9055blevel0_row5\" class=\"row_heading level0 row5\" >5</th>\n",
       "                        <td id=\"T_963977e2_d3d6_11ea_821e_54e1adc9055brow5_col0\" class=\"data row5 col0\" >0</td>\n",
       "                        <td id=\"T_963977e2_d3d6_11ea_821e_54e1adc9055brow5_col1\" class=\"data row5 col1\" >0</td>\n",
       "                        <td id=\"T_963977e2_d3d6_11ea_821e_54e1adc9055brow5_col2\" class=\"data row5 col2\" >5</td>\n",
       "            </tr>\n",
       "            <tr>\n",
       "                        <th id=\"T_963977e2_d3d6_11ea_821e_54e1adc9055blevel0_row6\" class=\"row_heading level0 row6\" >8</th>\n",
       "                        <td id=\"T_963977e2_d3d6_11ea_821e_54e1adc9055brow6_col0\" class=\"data row6 col0\" >0</td>\n",
       "                        <td id=\"T_963977e2_d3d6_11ea_821e_54e1adc9055brow6_col1\" class=\"data row6 col1\" >0</td>\n",
       "                        <td id=\"T_963977e2_d3d6_11ea_821e_54e1adc9055brow6_col2\" class=\"data row6 col2\" >7</td>\n",
       "            </tr>\n",
       "    </tbody></table>"
      ],
      "text/plain": [
       "<pandas.io.formats.style.Styler at 0x255e70d1748>"
      ]
     },
     "execution_count": 28,
     "metadata": {},
     "output_type": "execute_result"
    }
   ],
   "source": [
    "pd.crosstab(train_data.SibSp,train_data.Pclass).style.background_gradient('summer_r')\n"
   ]
  },
  {
   "cell_type": "markdown",
   "metadata": {
    "_cell_guid": "370a48eb-0a15-4bee-ad4a-c538fde3d75c",
    "_uuid": "35e4a93f1a9943165bb7b348daf2b008820be2a4"
   },
   "source": [
    "There are many interesting facts with this feature. Barplot and FactorPlot shows that if a passanger is alone in ship with no siblings, survival rate is 34.5%. The graph decreases as no of siblings increase. This is interesting because, If I have a family onboard, I will save them instead of saving myself. But there's something wrong, the survival rate for families with 5-8 members is 0%. Is this because of PClass?\n",
    "Yes this is PClass,  The crosstab shows that Person with SibSp>3 were all in Pclass3. It is imminent that all the large families in Pclass3(>3) died."
   ]
  },
  {
   "cell_type": "markdown",
   "metadata": {
    "_cell_guid": "0fdd2521-4b53-4a04-bad7-0bf62f4932f2",
    "_uuid": "2095912b48d60e66fa9b2f71f7d59ecf9367304f"
   },
   "source": [
    "That are some interesting facts we have observed with Titanic dataset."
   ]
  },
  {
   "cell_type": "code",
   "execution_count": null,
   "metadata": {
    "_cell_guid": "7ca8c974-a10e-4a88-b466-49a7c198428d",
    "_uuid": "257631be7f62837e92c4cf3d9b12f05527ba810e"
   },
   "outputs": [],
   "source": []
  },
  {
   "cell_type": "code",
   "execution_count": null,
   "metadata": {},
   "outputs": [],
   "source": []
  }
 ],
 "metadata": {
  "kernelspec": {
   "display_name": "Python 3",
   "language": "python",
   "name": "python3"
  },
  "language_info": {
   "codemirror_mode": {
    "name": "ipython",
    "version": 3
   },
   "file_extension": ".py",
   "mimetype": "text/x-python",
   "name": "python",
   "nbconvert_exporter": "python",
   "pygments_lexer": "ipython3",
   "version": "3.7.3"
  }
 },
 "nbformat": 4,
 "nbformat_minor": 1
}
